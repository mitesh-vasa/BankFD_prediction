{
 "cells": [
  {
   "cell_type": "code",
   "execution_count": 1,
   "id": "bf87c46f",
   "metadata": {},
   "outputs": [],
   "source": [
    "import warnings\n",
    "warnings.filterwarnings('ignore')\n",
    "import pickle"
   ]
  },
  {
   "cell_type": "code",
   "execution_count": 18,
   "id": "2a2082ac",
   "metadata": {},
   "outputs": [],
   "source": [
    "file1=open('scale.pkl','rb')\n",
    "file2=open('decisiontreegini.pkl','rb')\n",
    "file3=open('decisiontreeentropy.pkl','rb')\n",
    "file4=open('decisiontreemaxdept.pkl','rb')\n",
    "file5=open('decisiontreeminsamples.pkl','rb')\n",
    "file6=open('Randomforest.pkl','rb')\n",
    "file7=open('adaptorboost.pkl','rb')\n",
    "file8=open('logisticregression.pkl','rb')\n",
    "file9=open('gradientboost.pkl','rb')\n",
    "file10=open('extremegradientboost.pkl','rb')\n",
    "file11=open('supportvector','rb')"
   ]
  },
  {
   "cell_type": "code",
   "execution_count": 19,
   "id": "4832f671",
   "metadata": {},
   "outputs": [],
   "source": [
    "scale=pickle.load(file1) # scale user defined function\n",
    "dtg=pickle.load(file2)\n",
    "dte=pickle.load(file3)\n",
    "dtmd=pickle.load(file4)\n",
    "dtms=pickle.load(file5)\n",
    "rfc=pickle.load(file6)\n",
    "ada=pickle.load(file7)\n",
    "lr=pickle.load(file8)\n",
    "gbc=pickle.load(file9)\n",
    "xgc=pickle.load(file10)\n",
    "svc=pickle.load(file11)"
   ]
  },
  {
   "cell_type": "code",
   "execution_count": 20,
   "id": "ac001f51",
   "metadata": {},
   "outputs": [],
   "source": [
    "age = 30\n",
    "job = 0\n",
    "marital = 0\n",
    "education = 1\n",
    "default=0\n",
    "balance=2343\n",
    "housing=1\n",
    "loan=0\n",
    "contact=2\n",
    "day=5\n",
    "month=8\n",
    "duration=1042\n",
    "campaign=1\n",
    "pdays=-1\n",
    "previous=0\n",
    "poutcome=3\n",
    "deposit=1"
   ]
  },
  {
   "cell_type": "code",
   "execution_count": 39,
   "id": "e52ec0e0",
   "metadata": {},
   "outputs": [
    {
     "data": {
      "text/plain": [
       "[30, 0, 0, 1, 0, 2343, 1, 0, 2, 5, 8, 1042, 1, -1, 0, 3]"
      ]
     },
     "execution_count": 39,
     "metadata": {},
     "output_type": "execute_result"
    }
   ],
   "source": [
    "#to predict the model\n",
    "import numpy as np\n",
    "x=[age,job,marital,education,default,balance,housing,loan,contact,day,month,duration,campaign,pdays,previous,poutcome]\n",
    "features=np.array([x])\n",
    "x"
   ]
  },
  {
   "cell_type": "code",
   "execution_count": 79,
   "id": "2324d7c8",
   "metadata": {},
   "outputs": [
    {
     "name": "stdout",
     "output_type": "stream",
     "text": [
      "0\n",
      "Customer will not open a fixed deposit account\n"
     ]
    }
   ],
   "source": [
    "features=scale.transform(features)\n",
    "model=dte\n",
    "Y_pred=model.predict(features)[0]\n",
    "print(Y_pred)\n",
    "if Y_pred==1:\n",
    "    print('Customer will open a fixed deposit account')\n",
    "else:\n",
    "    print('Customer will not open a fixed deposit account')"
   ]
  }
 ],
 "metadata": {
  "kernelspec": {
   "display_name": "Python 3 (ipykernel)",
   "language": "python",
   "name": "python3"
  },
  "language_info": {
   "codemirror_mode": {
    "name": "ipython",
    "version": 3
   },
   "file_extension": ".py",
   "mimetype": "text/x-python",
   "name": "python",
   "nbconvert_exporter": "python",
   "pygments_lexer": "ipython3",
   "version": "3.10.9"
  }
 },
 "nbformat": 4,
 "nbformat_minor": 5
}
