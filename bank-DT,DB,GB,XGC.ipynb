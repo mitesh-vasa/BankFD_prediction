{
 "cells": [
  {
   "cell_type": "code",
   "execution_count": 1,
   "id": "deb5bde8",
   "metadata": {},
   "outputs": [],
   "source": [
    "import numpy as np\n",
    "import pandas as pd\n",
    "import matplotlib.pyplot as plt\n",
    "import seaborn as sns\n",
    "import warnings\n",
    "warnings.filterwarnings('ignore')"
   ]
  },
  {
   "cell_type": "code",
   "execution_count": 2,
   "id": "ec253ef9",
   "metadata": {},
   "outputs": [
    {
     "data": {
      "text/html": [
       "<div>\n",
       "<style scoped>\n",
       "    .dataframe tbody tr th:only-of-type {\n",
       "        vertical-align: middle;\n",
       "    }\n",
       "\n",
       "    .dataframe tbody tr th {\n",
       "        vertical-align: top;\n",
       "    }\n",
       "\n",
       "    .dataframe thead th {\n",
       "        text-align: right;\n",
       "    }\n",
       "</style>\n",
       "<table border=\"1\" class=\"dataframe\">\n",
       "  <thead>\n",
       "    <tr style=\"text-align: right;\">\n",
       "      <th></th>\n",
       "      <th>age</th>\n",
       "      <th>job</th>\n",
       "      <th>marital</th>\n",
       "      <th>education</th>\n",
       "      <th>default</th>\n",
       "      <th>balance</th>\n",
       "      <th>housing</th>\n",
       "      <th>loan</th>\n",
       "      <th>contact</th>\n",
       "      <th>day</th>\n",
       "      <th>month</th>\n",
       "      <th>duration</th>\n",
       "      <th>campaign</th>\n",
       "      <th>pdays</th>\n",
       "      <th>previous</th>\n",
       "      <th>poutcome</th>\n",
       "      <th>deposit</th>\n",
       "    </tr>\n",
       "  </thead>\n",
       "  <tbody>\n",
       "    <tr>\n",
       "      <th>0</th>\n",
       "      <td>59</td>\n",
       "      <td>0</td>\n",
       "      <td>1</td>\n",
       "      <td>1</td>\n",
       "      <td>0</td>\n",
       "      <td>2343</td>\n",
       "      <td>1</td>\n",
       "      <td>0</td>\n",
       "      <td>2</td>\n",
       "      <td>5</td>\n",
       "      <td>8</td>\n",
       "      <td>1042</td>\n",
       "      <td>1</td>\n",
       "      <td>-1</td>\n",
       "      <td>0</td>\n",
       "      <td>3</td>\n",
       "      <td>1</td>\n",
       "    </tr>\n",
       "    <tr>\n",
       "      <th>1</th>\n",
       "      <td>56</td>\n",
       "      <td>0</td>\n",
       "      <td>1</td>\n",
       "      <td>1</td>\n",
       "      <td>0</td>\n",
       "      <td>45</td>\n",
       "      <td>0</td>\n",
       "      <td>0</td>\n",
       "      <td>2</td>\n",
       "      <td>5</td>\n",
       "      <td>8</td>\n",
       "      <td>1467</td>\n",
       "      <td>1</td>\n",
       "      <td>-1</td>\n",
       "      <td>0</td>\n",
       "      <td>3</td>\n",
       "      <td>1</td>\n",
       "    </tr>\n",
       "    <tr>\n",
       "      <th>2</th>\n",
       "      <td>41</td>\n",
       "      <td>9</td>\n",
       "      <td>1</td>\n",
       "      <td>1</td>\n",
       "      <td>0</td>\n",
       "      <td>1270</td>\n",
       "      <td>1</td>\n",
       "      <td>0</td>\n",
       "      <td>2</td>\n",
       "      <td>5</td>\n",
       "      <td>8</td>\n",
       "      <td>1389</td>\n",
       "      <td>1</td>\n",
       "      <td>-1</td>\n",
       "      <td>0</td>\n",
       "      <td>3</td>\n",
       "      <td>1</td>\n",
       "    </tr>\n",
       "    <tr>\n",
       "      <th>3</th>\n",
       "      <td>55</td>\n",
       "      <td>7</td>\n",
       "      <td>1</td>\n",
       "      <td>1</td>\n",
       "      <td>0</td>\n",
       "      <td>2476</td>\n",
       "      <td>1</td>\n",
       "      <td>0</td>\n",
       "      <td>2</td>\n",
       "      <td>5</td>\n",
       "      <td>8</td>\n",
       "      <td>579</td>\n",
       "      <td>1</td>\n",
       "      <td>-1</td>\n",
       "      <td>0</td>\n",
       "      <td>3</td>\n",
       "      <td>1</td>\n",
       "    </tr>\n",
       "    <tr>\n",
       "      <th>4</th>\n",
       "      <td>54</td>\n",
       "      <td>0</td>\n",
       "      <td>1</td>\n",
       "      <td>2</td>\n",
       "      <td>0</td>\n",
       "      <td>184</td>\n",
       "      <td>0</td>\n",
       "      <td>0</td>\n",
       "      <td>2</td>\n",
       "      <td>5</td>\n",
       "      <td>8</td>\n",
       "      <td>673</td>\n",
       "      <td>2</td>\n",
       "      <td>-1</td>\n",
       "      <td>0</td>\n",
       "      <td>3</td>\n",
       "      <td>1</td>\n",
       "    </tr>\n",
       "  </tbody>\n",
       "</table>\n",
       "</div>"
      ],
      "text/plain": [
       "   age  job  marital  education  default  balance  housing  loan  contact  \\\n",
       "0   59    0        1          1        0     2343        1     0        2   \n",
       "1   56    0        1          1        0       45        0     0        2   \n",
       "2   41    9        1          1        0     1270        1     0        2   \n",
       "3   55    7        1          1        0     2476        1     0        2   \n",
       "4   54    0        1          2        0      184        0     0        2   \n",
       "\n",
       "   day  month  duration  campaign  pdays  previous  poutcome  deposit  \n",
       "0    5      8      1042         1     -1         0         3        1  \n",
       "1    5      8      1467         1     -1         0         3        1  \n",
       "2    5      8      1389         1     -1         0         3        1  \n",
       "3    5      8       579         1     -1         0         3        1  \n",
       "4    5      8       673         2     -1         0         3        1  "
      ]
     },
     "execution_count": 2,
     "metadata": {},
     "output_type": "execute_result"
    }
   ],
   "source": [
    "#import data\n",
    "df=pd.read_csv('bank.csv')\n",
    "df.head()"
   ]
  },
  {
   "cell_type": "code",
   "execution_count": 3,
   "id": "d9914c7d",
   "metadata": {},
   "outputs": [
    {
     "data": {
      "text/plain": [
       "age          int64\n",
       "job          int64\n",
       "marital      int64\n",
       "education    int64\n",
       "default      int64\n",
       "balance      int64\n",
       "housing      int64\n",
       "loan         int64\n",
       "contact      int64\n",
       "day          int64\n",
       "month        int64\n",
       "duration     int64\n",
       "campaign     int64\n",
       "pdays        int64\n",
       "previous     int64\n",
       "poutcome     int64\n",
       "deposit      int64\n",
       "dtype: object"
      ]
     },
     "execution_count": 3,
     "metadata": {},
     "output_type": "execute_result"
    }
   ],
   "source": [
    "#check for datatypes\n",
    "df.dtypes"
   ]
  },
  {
   "cell_type": "code",
   "execution_count": 6,
   "id": "b4b09758",
   "metadata": {},
   "outputs": [
    {
     "data": {
      "text/plain": [
       "array([1, 2, 0, 3], dtype=int64)"
      ]
     },
     "execution_count": 6,
     "metadata": {},
     "output_type": "execute_result"
    }
   ],
   "source": [
    "df['education'].unique()"
   ]
  },
  {
   "cell_type": "code",
   "execution_count": 7,
   "id": "5fe73136",
   "metadata": {},
   "outputs": [
    {
     "data": {
      "text/plain": [
       "array([0, 1], dtype=int64)"
      ]
     },
     "execution_count": 7,
     "metadata": {},
     "output_type": "execute_result"
    }
   ],
   "source": [
    "df['default'].unique()"
   ]
  },
  {
   "cell_type": "code",
   "execution_count": 19,
   "id": "10c86fde",
   "metadata": {},
   "outputs": [
    {
     "data": {
      "text/plain": [
       "array([ 5,  6,  7,  8,  9, 12, 13, 14, 15, 16, 19, 20, 21, 23, 26, 27, 28,\n",
       "       29, 30,  2,  3,  4, 11, 17, 18, 24,  1, 10, 22, 25, 31],\n",
       "      dtype=int64)"
      ]
     },
     "execution_count": 19,
     "metadata": {},
     "output_type": "execute_result"
    }
   ],
   "source": [
    "df['day'].unique()"
   ]
  },
  {
   "cell_type": "code",
   "execution_count": 8,
   "id": "6a71fd2d",
   "metadata": {},
   "outputs": [
    {
     "data": {
      "text/plain": [
       "array([1, 0], dtype=int64)"
      ]
     },
     "execution_count": 8,
     "metadata": {},
     "output_type": "execute_result"
    }
   ],
   "source": [
    "df['housing'].unique()"
   ]
  },
  {
   "cell_type": "code",
   "execution_count": 9,
   "id": "56558ae5",
   "metadata": {},
   "outputs": [
    {
     "data": {
      "text/plain": [
       "array([2, 0, 1], dtype=int64)"
      ]
     },
     "execution_count": 9,
     "metadata": {},
     "output_type": "execute_result"
    }
   ],
   "source": [
    "df['contact'].unique()"
   ]
  },
  {
   "cell_type": "code",
   "execution_count": 11,
   "id": "72364f91",
   "metadata": {},
   "outputs": [
    {
     "data": {
      "text/plain": [
       "63"
      ]
     },
     "execution_count": 11,
     "metadata": {},
     "output_type": "execute_result"
    }
   ],
   "source": [
    "df['campaign'].unique().max()"
   ]
  },
  {
   "cell_type": "code",
   "execution_count": 14,
   "id": "4c239c4a",
   "metadata": {},
   "outputs": [
    {
     "data": {
      "text/plain": [
       "854"
      ]
     },
     "execution_count": 14,
     "metadata": {},
     "output_type": "execute_result"
    }
   ],
   "source": [
    "df['pdays'].unique().max()"
   ]
  },
  {
   "cell_type": "code",
   "execution_count": 17,
   "id": "f48acc84",
   "metadata": {},
   "outputs": [
    {
     "data": {
      "text/plain": [
       "58"
      ]
     },
     "execution_count": 17,
     "metadata": {},
     "output_type": "execute_result"
    }
   ],
   "source": [
    "df['previous'].unique().max()"
   ]
  },
  {
   "cell_type": "code",
   "execution_count": 18,
   "id": "ff4d7f1c",
   "metadata": {},
   "outputs": [
    {
     "data": {
      "text/plain": [
       "array([ 0,  1,  4,  2,  3, 10,  7,  9,  5, 29,  6, 13, 17,  8, 11, 30, 22,\n",
       "       58, 21, 14, 26, 12, 19, 55, 23, 15, 20, 27, 16, 41, 40, 28, 18, 37],\n",
       "      dtype=int64)"
      ]
     },
     "execution_count": 18,
     "metadata": {},
     "output_type": "execute_result"
    }
   ],
   "source": [
    "df['previous'].unique()"
   ]
  },
  {
   "cell_type": "code",
   "execution_count": 5,
   "id": "da3d902a",
   "metadata": {},
   "outputs": [
    {
     "data": {
      "text/plain": [
       "Index(['age', 'job', 'marital', 'education', 'default', 'balance', 'housing',\n",
       "       'loan', 'contact', 'day', 'month', 'duration', 'campaign', 'pdays',\n",
       "       'previous', 'poutcome', 'deposit'],\n",
       "      dtype='object')"
      ]
     },
     "execution_count": 5,
     "metadata": {},
     "output_type": "execute_result"
    }
   ],
   "source": [
    "df.columns"
   ]
  },
  {
   "cell_type": "code",
   "execution_count": null,
   "id": "a3b7ce9b",
   "metadata": {},
   "outputs": [],
   "source": [
    "#check for null values\n",
    "df.isnull().sum()"
   ]
  },
  {
   "cell_type": "code",
   "execution_count": null,
   "id": "583715f8",
   "metadata": {},
   "outputs": [],
   "source": [
    "#visualise\n",
    "sns.countplot(data=df,x='education')\n",
    "f=df['education'].value_counts()\n",
    "plt.yticks(f)\n",
    "plt.show()\n",
    "\n",
    "#do the same for rest of the parameters+"
   ]
  },
  {
   "cell_type": "code",
   "execution_count": null,
   "id": "6088311a",
   "metadata": {},
   "outputs": [],
   "source": [
    "#split input and output\n",
    "X=df.drop('deposit',axis=1)\n",
    "Y=df['deposit']"
   ]
  },
  {
   "cell_type": "code",
   "execution_count": null,
   "id": "63a7834f",
   "metadata": {},
   "outputs": [],
   "source": [
    "X.head()"
   ]
  },
  {
   "cell_type": "code",
   "execution_count": null,
   "id": "ed60ac35",
   "metadata": {},
   "outputs": [],
   "source": [
    "Y.head()"
   ]
  },
  {
   "cell_type": "code",
   "execution_count": null,
   "id": "48995f62",
   "metadata": {},
   "outputs": [],
   "source": [
    "#train test split\n",
    "from sklearn.model_selection import train_test_split\n",
    "#create object of inbuilt class train_tesT_split\n",
    "X_train,X_test,Y_train,Y_test=train_test_split(X,Y,test_size=0.3,random_state=1)"
   ]
  },
  {
   "cell_type": "code",
   "execution_count": null,
   "id": "7efad7e8",
   "metadata": {},
   "outputs": [],
   "source": [
    "#Apply scaling : standard scaler\n",
    "from sklearn.preprocessing import StandardScaler\n",
    "#create object of standard scaler class\n",
    "ss=StandardScaler()\n",
    "X_train=ss.fit_transform(X_train)\n",
    "X_test=ss.transform(X_test)"
   ]
  },
  {
   "cell_type": "code",
   "execution_count": null,
   "id": "3630b900",
   "metadata": {},
   "outputs": [],
   "source": [
    "X_train"
   ]
  },
  {
   "cell_type": "code",
   "execution_count": null,
   "id": "80fb68e2",
   "metadata": {},
   "outputs": [],
   "source": [
    "#call decision tree classifier class--> outer class tree-->SR learn package\n",
    "from sklearn.tree import DecisionTreeClassifier"
   ]
  },
  {
   "cell_type": "code",
   "execution_count": null,
   "id": "bbaa3b63",
   "metadata": {},
   "outputs": [],
   "source": [
    "#create the object of class DecisionTreeClassifier\n",
    "dt1=DecisionTreeClassifier(random_state=1,criterion='entropy') #use entropy classification"
   ]
  },
  {
   "cell_type": "code",
   "execution_count": null,
   "id": "9a935275",
   "metadata": {},
   "outputs": [],
   "source": [
    "#train model with 70% traiing data\n",
    "dt1.fit(X_train,Y_train)"
   ]
  },
  {
   "cell_type": "code",
   "execution_count": null,
   "id": "14c5722f",
   "metadata": {},
   "outputs": [],
   "source": [
    "#to test the model with 30% data\n",
    "#use predict() inbuilt method\n",
    "Y_pred=dt1.predict(X_test)"
   ]
  },
  {
   "cell_type": "code",
   "execution_count": null,
   "id": "8f4fbfeb",
   "metadata": {},
   "outputs": [],
   "source": [
    "Y_pred"
   ]
  },
  {
   "cell_type": "code",
   "execution_count": null,
   "id": "7afa85d6",
   "metadata": {},
   "outputs": [],
   "source": [
    "#create dataframe with help od dictionery\n",
    "dict={\"Actual output\":Y_test,\"predicted output\":Y_pred}\n",
    "df1=pd.DataFrame(dict)\n",
    "df1.head(10)"
   ]
  },
  {
   "cell_type": "code",
   "execution_count": null,
   "id": "3dae005a",
   "metadata": {},
   "outputs": [],
   "source": [
    "#to show information gain of each input features\n",
    "#use inbuilt function attributes features_importance_ of decision tree class\n",
    "\n",
    "IG=dt1.feature_importances_\n",
    "\n",
    "col=X.columns # columns inbuilt attributes\n",
    "#create a dictionery\n",
    "dict={'input columns':col,'Information Gain':IG}\n",
    "df2=pd.DataFrame(dict)\n",
    "df2"
   ]
  },
  {
   "cell_type": "code",
   "execution_count": null,
   "id": "b1c410cc",
   "metadata": {},
   "outputs": [],
   "source": [
    "#create a tree\n",
    "from sklearn import tree\n",
    "features=X.columns # input features\n",
    "plt.figure(figsize=(20,20))\n",
    "_=tree.plot_tree(dt1,feature_names=features,filled=True)\n",
    "plt.show()"
   ]
  },
  {
   "cell_type": "code",
   "execution_count": null,
   "id": "62ca4654",
   "metadata": {},
   "outputs": [],
   "source": [
    "from sklearn.metrics import confusion_matrix\n",
    "from sklearn.metrics import classification_report\n",
    "print(classification_report(Y_test,Y_pred))"
   ]
  },
  {
   "cell_type": "code",
   "execution_count": null,
   "id": "30d74097",
   "metadata": {},
   "outputs": [],
   "source": [
    "print (confusion_matrix(Y_test,Y_pred))"
   ]
  },
  {
   "cell_type": "code",
   "execution_count": null,
   "id": "2234aa36",
   "metadata": {},
   "outputs": [],
   "source": [
    "#create user defined function\n",
    "def create_model(model): #user defined object and create_model() user defined function\n",
    "    model.fit(X_train,Y_train) #train data with 70% data\n",
    "    #test the model with 30% data\n",
    "    Y_pred=model.predict(X_test)\n",
    "    #generate classification report of model\n",
    "    print(classification_report(Y_test,Y_pred))\n",
    "    #generate confusion matirx\n",
    "    print(confusion_matrix(Y_test,Y_pred))\n",
    "    return model"
   ]
  },
  {
   "cell_type": "code",
   "execution_count": null,
   "id": "946ece97",
   "metadata": {},
   "outputs": [],
   "source": [
    "from sklearn.metrics import classification_report\n",
    "from sklearn.metrics import confusion_matrix"
   ]
  },
  {
   "cell_type": "code",
   "execution_count": null,
   "id": "6991a64c",
   "metadata": {},
   "outputs": [],
   "source": [
    "#perform model with help of logistic regression algorithm\n",
    "from sklearn.linear_model import LogisticRegression"
   ]
  },
  {
   "cell_type": "code",
   "execution_count": null,
   "id": "4d91f981",
   "metadata": {},
   "outputs": [],
   "source": [
    "#create object of class LogisticRegression\n",
    "lr=LogisticRegression()"
   ]
  },
  {
   "cell_type": "code",
   "execution_count": null,
   "id": "b8f4ed9d",
   "metadata": {},
   "outputs": [],
   "source": [
    "#call function\n",
    "LG=create_model(lr)"
   ]
  },
  {
   "cell_type": "code",
   "execution_count": null,
   "id": "847ef3d5",
   "metadata": {},
   "outputs": [],
   "source": [
    "#in logistic regression, got recall 77% behind the reason for less score, features are not selected automatically\n",
    "#use 2nd algorithm\n",
    "from sklearn.tree import DecisionTreeClassifier"
   ]
  },
  {
   "cell_type": "code",
   "execution_count": null,
   "id": "6d13fc0a",
   "metadata": {},
   "outputs": [],
   "source": [
    "#perform the model with DecisionTree classifier(gini index)\n",
    "dt=DecisionTreeClassifier(random_state=1)"
   ]
  },
  {
   "cell_type": "code",
   "execution_count": null,
   "id": "9284daff",
   "metadata": {
    "scrolled": true
   },
   "outputs": [],
   "source": [
    "#call function\n",
    "#call function and passing the object of DecisionTreeClassifier\n",
    "create_model(dt)"
   ]
  },
  {
   "cell_type": "code",
   "execution_count": null,
   "id": "84645b57",
   "metadata": {},
   "outputs": [],
   "source": [
    "IG=dt.feature_importances_\n",
    "col=X.columns\n",
    "dict={'input columns':col,'IG':IG}\n",
    "df1=pd.DataFrame(dict)\n",
    "df1.sort_values('IG',ascending=False,ignore_index=True)"
   ]
  },
  {
   "cell_type": "code",
   "execution_count": null,
   "id": "4e0ae247",
   "metadata": {},
   "outputs": [],
   "source": [
    "#create a tree\n",
    "from sklearn import tree\n",
    "features=X.columns # input features\n",
    "plt.figure(figsize=(40,40))\n",
    "_=tree.plot_tree(dt,feature_names=features,filled=True)\n",
    "plt.show()"
   ]
  },
  {
   "cell_type": "code",
   "execution_count": null,
   "id": "c72ebbb1",
   "metadata": {},
   "outputs": [],
   "source": [
    "# perform the model with DecisionTree classifier\n",
    "dt1=DecisionTreeClassifier(random_state=1,criterion='entropy')"
   ]
  },
  {
   "cell_type": "code",
   "execution_count": null,
   "id": "adfee831",
   "metadata": {},
   "outputs": [],
   "source": [
    "create_model(dt1)"
   ]
  },
  {
   "cell_type": "code",
   "execution_count": null,
   "id": "f4f7a4ff",
   "metadata": {},
   "outputs": [],
   "source": [
    "#But we got less score 0.77 % its good but not excellent , \n",
    "#region behind less score , overfit means \n",
    "#model is overfit so reduced the overfitting situation : - \n",
    "#then we use pruning technique \n",
    "\n",
    "#How to reduced a overfitting situation \n",
    "#By using the Pruning technique : -\n",
    "#There are 2 types of pruning technique : -\n",
    "#1. max_depth : inbulit parameter\n",
    "#2. min_samples_leaf  : inbuilt parameter\n",
    "#leaf means no child\n",
    "\n",
    "#limitation oa decision tree classifier class\n",
    "#1 processing time too much\n",
    "#2 overfitiing occours"
   ]
  },
  {
   "cell_type": "code",
   "execution_count": null,
   "id": "e63569cd",
   "metadata": {},
   "outputs": [],
   "source": [
    "#1. max depth : max to max =8 or less\n",
    "'''for d in range(1,9):\n",
    "    #create the object of decision treeclassifier class\n",
    "    dt1=DecisionTreeClassifier(random_state=1,max_depth=d)\n",
    "    print(\"Max_depth:\",d)\n",
    "    #callfunction for train,test and generate report\n",
    "    dt1=create_model(dt1)'''"
   ]
  },
  {
   "cell_type": "code",
   "execution_count": null,
   "id": "ff30a6bc",
   "metadata": {},
   "outputs": [],
   "source": [
    "#create the object of decision treeclassifier class\n",
    "dt2=DecisionTreeClassifier(random_state=1,max_depth=5)\n",
    "dt2=create_model(dt2)"
   ]
  },
  {
   "cell_type": "code",
   "execution_count": null,
   "id": "45707000",
   "metadata": {},
   "outputs": [],
   "source": [
    "IG=dt2.feature_importances_\n",
    "col=X.columns\n",
    "dict={'input columns':col,'IG':IG}\n",
    "df1=pd.DataFrame(dict)\n",
    "df1.sort_values('IG',ascending=False,ignore_index=True)"
   ]
  },
  {
   "cell_type": "code",
   "execution_count": null,
   "id": "76b895c3",
   "metadata": {},
   "outputs": [],
   "source": [
    "#create a tree\n",
    "from sklearn import tree\n",
    "features=X.columns # input features\n",
    "plt.figure(figsize=(40,40))\n",
    "_=tree.plot_tree(dt2,feature_names=features,filled=True)\n",
    "plt.show()"
   ]
  },
  {
   "cell_type": "code",
   "execution_count": null,
   "id": "c10628db",
   "metadata": {},
   "outputs": [],
   "source": [
    "#21-06-2023"
   ]
  },
  {
   "cell_type": "code",
   "execution_count": null,
   "id": "630f82df",
   "metadata": {},
   "outputs": [],
   "source": [
    "#min_samples_leaf inbuilt parameter\n",
    "#leaf : no child\n",
    "#min_samples_leaf>=45 and <100"
   ]
  },
  {
   "cell_type": "code",
   "execution_count": null,
   "id": "19a0eb78",
   "metadata": {},
   "outputs": [],
   "source": [
    "#create the object of DecisionTreeClassifier class\n",
    "'''for i in range(45,101):\n",
    "    #create the object of decision tree classifier class and passing the value of\n",
    "    #parameter min_samples_leaf\n",
    "    dt2=DecisionTreeClassifier(random_state=1,min_samples_leaf=i)#bydefault gini index\n",
    "    #call function for train,test split\n",
    "    dt2=create_model(dt2)'''"
   ]
  },
  {
   "cell_type": "code",
   "execution_count": null,
   "id": "70f23d8a",
   "metadata": {},
   "outputs": [],
   "source": [
    "dt3=DecisionTreeClassifier(random_state=1,min_samples_leaf=45)#bydefault gini index\n",
    "dt3=create_model(dt3)"
   ]
  },
  {
   "cell_type": "code",
   "execution_count": null,
   "id": "8632ebe5",
   "metadata": {},
   "outputs": [],
   "source": [
    "IG=dt3.feature_importances_ \n",
    "col=X.columns\n",
    "dict={'input columns':col,'IG':IG}\n",
    "df1=pd.DataFrame(dict)\n",
    "df1.sort_values('IG',ascending=False,ignore_index=True)"
   ]
  },
  {
   "cell_type": "code",
   "execution_count": null,
   "id": "37401d8d",
   "metadata": {},
   "outputs": [],
   "source": [
    "#create a tree\n",
    "from sklearn import tree\n",
    "features=X.columns # input features\n",
    "plt.figure(figsize=(40,40))\n",
    "_=tree.plot_tree(dt3,feature_names=features,filled=True)\n",
    "plt.show()"
   ]
  },
  {
   "cell_type": "code",
   "execution_count": null,
   "id": "579c09e3",
   "metadata": {},
   "outputs": [],
   "source": [
    "#note:here best method in this bank dataset\n",
    "#decisionTreeClassifier with pruning Technique min_samples_Leaf=45\n",
    "#got recall= 87%"
   ]
  },
  {
   "cell_type": "code",
   "execution_count": null,
   "id": "f1d90c73",
   "metadata": {},
   "outputs": [],
   "source": [
    "#ensembling Technique\n",
    "#1 RandomForestTree  : work on bagging classifier\n",
    "#RandomForestTree is the type of Bootstrapping\n",
    "#and Bootstrapping is the type of Ensembling Technique"
   ]
  },
  {
   "cell_type": "code",
   "execution_count": null,
   "id": "efcf2d6e",
   "metadata": {},
   "outputs": [],
   "source": [
    "#inbuilt class RandomForestClassifier\n",
    "from sklearn.ensemble import RandomForestClassifier"
   ]
  },
  {
   "cell_type": "code",
   "execution_count": null,
   "id": "2c8399e9",
   "metadata": {},
   "outputs": [],
   "source": [
    "#ensemble means to train the dataset from multiple algorithm\n",
    "#in case of RandomForestClassifier, To train dataset from multiple decisiontree"
   ]
  },
  {
   "cell_type": "code",
   "execution_count": null,
   "id": "4b123ba8",
   "metadata": {},
   "outputs": [],
   "source": [
    "X.shape"
   ]
  },
  {
   "cell_type": "code",
   "execution_count": null,
   "id": "83229941",
   "metadata": {
    "scrolled": false
   },
   "outputs": [],
   "source": [
    "#create the object of RandomForestClassifier class\n",
    "'''for i in range(1,17):\n",
    "    #create the object of ranfomforestclassifier class\n",
    "    rfc=RandomForestClassifier(random_state=1,max_features=i)\n",
    "    #by default use algorithm DecisionTreeclassifier\n",
    "    # max_features inbuilt parameters of RandomForestClassifier class\n",
    "    # call function\n",
    "    print('max_features:',i)\n",
    "    rfc=create_model(rfc)'''"
   ]
  },
  {
   "cell_type": "code",
   "execution_count": null,
   "id": "26a140e2",
   "metadata": {},
   "outputs": [],
   "source": [
    "# using max features =4\n",
    "rfc=RandomForestClassifier(random_state=1,max_features=4)\n",
    "print('max_features:',4)\n",
    "rfc=create_model(rfc)"
   ]
  },
  {
   "cell_type": "code",
   "execution_count": null,
   "id": "b1eb9ebe",
   "metadata": {},
   "outputs": [],
   "source": [
    "IG=rfc.feature_importances_\n",
    "col=X.columns\n",
    "dict={'input columns':col,'IG':IG}\n",
    "df1=pd.DataFrame(dict)\n",
    "df1.sort_values('IG',ascending=False,ignore_index=True)"
   ]
  },
  {
   "cell_type": "code",
   "execution_count": null,
   "id": "cf4940b2",
   "metadata": {},
   "outputs": [],
   "source": [
    "#got recall=88% and accuracy =85%, RFC is best also, for bank dataset"
   ]
  },
  {
   "cell_type": "code",
   "execution_count": null,
   "id": "c645dccf",
   "metadata": {},
   "outputs": [],
   "source": [
    "#22-06-2023"
   ]
  },
  {
   "cell_type": "code",
   "execution_count": null,
   "id": "268a0b4c",
   "metadata": {},
   "outputs": [],
   "source": [
    "#Boosting TEchnique\n",
    "# 1.ADA Boost means Adaptor Boosting\n",
    "# Inbuilt class AdaBoostClassifier\n",
    "from sklearn.ensemble import AdaBoostClassifier"
   ]
  },
  {
   "cell_type": "code",
   "execution_count": null,
   "id": "1b013ff2",
   "metadata": {},
   "outputs": [],
   "source": [
    "'''for i in range(1,17):\n",
    "    #create object of AdaBoostClassifier class\n",
    "    ada=AdaBoostClassifier(random_state=1,n_estimators=i)\n",
    "    print(\"no of estimators:\",i)\n",
    "    #call function\n",
    "    ada=create_model(ada)'''"
   ]
  },
  {
   "cell_type": "code",
   "execution_count": null,
   "id": "322a151b",
   "metadata": {},
   "outputs": [],
   "source": [
    "#create object of AdaBoostClassifier class\n",
    "ada=AdaBoostClassifier(random_state=1,n_estimators=11)\n",
    "#n_estimators means how many decision stump, decision stump depend on\n",
    "#n_estimators means how many decision stump , decision stump depend on \n",
    "#no. of input in given dataset\n",
    "#in case of our dataset , no. of features means inputs =13 \n",
    "#call function\n",
    "\n",
    "ada=create_model(ada)"
   ]
  },
  {
   "cell_type": "code",
   "execution_count": null,
   "id": "85933293",
   "metadata": {},
   "outputs": [],
   "source": [
    "IG=ada.feature_importances_\n",
    "col=X.columns\n",
    "dict={'input columns':col,'IG':IG}\n",
    "df1=pd.DataFrame(dict)\n",
    "df1.sort_values('IG',ascending=False,ignore_index=True)"
   ]
  },
  {
   "cell_type": "code",
   "execution_count": null,
   "id": "4eeae57c",
   "metadata": {},
   "outputs": [],
   "source": [
    "#in ada boost, got recall=0.79"
   ]
  },
  {
   "cell_type": "code",
   "execution_count": null,
   "id": "b9f10903",
   "metadata": {},
   "outputs": [],
   "source": [
    "#2. gradient Boost technuique : second tech. of Boosting Ensembling \n",
    "#technique \n",
    "# GB  : - its create a fully grown tree.this algorithm is focus on \n",
    "#short comings \n",
    "#short comings means error\n",
    "from sklearn.ensemble import GradientBoostingClassifier"
   ]
  },
  {
   "cell_type": "code",
   "execution_count": null,
   "id": "bb9a7fb4",
   "metadata": {},
   "outputs": [],
   "source": [
    "'''for i in range(10,101):\n",
    "    #create object of GradientBoostingClassifier and passing the parameter n_estimators between\n",
    "    #10 to 100\n",
    "    gbc=GradientBoostingClassifier(random_state=1,n_estimators=i)\n",
    "    #n_estimators means how many decison tree create for train the model\n",
    "    print(\"n_estimators means no of decisin tree =\",i)\n",
    "    gbc=create_model(gbc)'''"
   ]
  },
  {
   "cell_type": "code",
   "execution_count": null,
   "id": "0c1d4cce",
   "metadata": {},
   "outputs": [],
   "source": [
    "#create object of GradientBoostingClassifier and passing the parameter n_estimators between\n",
    "    #10 to 100\n",
    "gbc=GradientBoostingClassifier(random_state=1,n_estimators=72)\n",
    "gbc=create_model(gbc)"
   ]
  },
  {
   "cell_type": "code",
   "execution_count": null,
   "id": "c52f3891",
   "metadata": {},
   "outputs": [],
   "source": [
    "IG=gbc.feature_importances_\n",
    "col=X.columns\n",
    "dict={'input columns':col,'IG':IG}\n",
    "df1=pd.DataFrame(dict)\n",
    "df1.sort_values('IG',ascending=False,ignore_index=True)"
   ]
  },
  {
   "cell_type": "code",
   "execution_count": null,
   "id": "5e607dc0",
   "metadata": {},
   "outputs": [],
   "source": [
    "#extreme Gradient Boost XGB:-"
   ]
  },
  {
   "cell_type": "code",
   "execution_count": null,
   "id": "be0f2fb5",
   "metadata": {},
   "outputs": [],
   "source": [
    "#26/6/2023"
   ]
  },
  {
   "cell_type": "code",
   "execution_count": null,
   "id": "a29d1cd9",
   "metadata": {},
   "outputs": [],
   "source": [
    "#XGB Boosting (26-06)\n",
    "#3. Extreame Gradient Boosting  : 3rd technique of Boosting \n",
    "#This is better version of gradient boosting . . short form XGB \n",
    "#why call better version of Gradient Boosting : -\n",
    "#1. XG Bossting use : - Multithreading technique(parallel processing)\n",
    "#2. It takes less memory space and faster \n",
    "#3. It is very useful to handle huge amt of data .Its deal large amount of data\n",
    "#4. Its handle outlier because have inbuilt capability\n",
    "#5. Its handle null values \n",
    "#6. Its handle automatic overfitting situation ."
   ]
  },
  {
   "cell_type": "code",
   "execution_count": null,
   "id": "390f2afa",
   "metadata": {},
   "outputs": [],
   "source": [
    "#pip install xgboost"
   ]
  },
  {
   "cell_type": "code",
   "execution_count": null,
   "id": "6e0991ef",
   "metadata": {},
   "outputs": [],
   "source": [
    "from xgboost import XGBClassifier"
   ]
  },
  {
   "cell_type": "code",
   "execution_count": null,
   "id": "a6411dda",
   "metadata": {},
   "outputs": [],
   "source": [
    "'''#create an object of XGB classifier class\n",
    "for i in range(1,101):\n",
    "    xgc=XGBClassifier(n_estimators=100,reg_alpha=i,random_state=1)\n",
    "#reg means regularisation and alpha : hypermeter alpha means lambda\n",
    "        #reg_alpha is a inbuilt parameter of XGBClassifier class,it is used \n",
    "        #to handle outlier and overfitting automatically and 1 means True\n",
    "    print ('No of iteration:',i)\n",
    "    xgc=create_model(xgc)'''"
   ]
  },
  {
   "cell_type": "code",
   "execution_count": null,
   "id": "b687ddf1",
   "metadata": {},
   "outputs": [],
   "source": [
    "#create an object of XGB classifier class\n",
    "xgc=XGBClassifier(n_estimators=100,reg_alpha=21,random_state=1)\n",
    "#reg means regularisation and alpha : hypermeter alpha means lambda\n",
    "        #reg_alpha is a inbuilt parameter of XGBClassifier class,it is used \n",
    "        #to handle outlier and overfitting automatically and 1 means True\n",
    "#print ('No of iteration:',i)\n",
    "xgc=create_model(xgc)"
   ]
  },
  {
   "cell_type": "code",
   "execution_count": null,
   "id": "cf998eb1",
   "metadata": {},
   "outputs": [],
   "source": [
    "#score in XGB : recall = 88% and accuracy=85%\n",
    "#in random forest tree : recall =88% and accuracy =85%"
   ]
  },
  {
   "cell_type": "code",
   "execution_count": null,
   "id": "129eec6b",
   "metadata": {},
   "outputs": [],
   "source": [
    "# text classification algorithm : support vector machine SVM\n",
    "#there are 2 types of data :\n",
    "#1. linear data    2. non-linear data\n"
   ]
  },
  {
   "cell_type": "code",
   "execution_count": null,
   "id": "77b24863",
   "metadata": {},
   "outputs": [],
   "source": [
    "#if data is in linear nature: so use linear kernel function\n",
    "#but if data is non-linear nature , so use 2 types of kernel function\n",
    "#1. Polynomail kernel function\n",
    "#2. Radial basis kernel function"
   ]
  },
  {
   "cell_type": "code",
   "execution_count": null,
   "id": "a7c4a4ed",
   "metadata": {},
   "outputs": [],
   "source": [
    "#linear kernal function\n",
    "from sklearn.svm import LinearSVC"
   ]
  },
  {
   "cell_type": "code",
   "execution_count": null,
   "id": "d448aeef",
   "metadata": {},
   "outputs": [],
   "source": [
    "#create a object\n",
    "svc=LinearSVC(random_state=1)  #hard margin"
   ]
  },
  {
   "cell_type": "code",
   "execution_count": null,
   "id": "6524d251",
   "metadata": {},
   "outputs": [],
   "source": [
    "#call function\n",
    "svc=create_model(svc)"
   ]
  },
  {
   "cell_type": "code",
   "execution_count": null,
   "id": "0386e237",
   "metadata": {},
   "outputs": [],
   "source": [
    "#here recall=77% which is good but not better,we can more better\n",
    "#may be model is overfit ,so reduced overfit situation\n",
    "#means to add external error during training time means use soft margin\n",
    "#means maybe data is linear but model is overfit so add external error during training time\n",
    "#create object of LinearSVC class and passing extra parameter C,here C is error parameter\n",
    "#whcih values between 0 to 1\n",
    "svc1=LinearSVC(random_state=1,C=0.01)\n",
    "svc1=create_model(svc1)"
   ]
  },
  {
   "cell_type": "code",
   "execution_count": null,
   "id": "9ce16494",
   "metadata": {},
   "outputs": [],
   "source": [
    "from sklearn.svm import SVC"
   ]
  },
  {
   "cell_type": "code",
   "execution_count": null,
   "id": "83bc03fb",
   "metadata": {},
   "outputs": [],
   "source": [
    "poly_svc=SVC(random_state=1,kernel=\"poly\")"
   ]
  },
  {
   "cell_type": "code",
   "execution_count": null,
   "id": "8c949abb",
   "metadata": {},
   "outputs": [],
   "source": [
    "#call function\n",
    "poly_svc=create_model(poly_svc)"
   ]
  },
  {
   "cell_type": "code",
   "execution_count": null,
   "id": "ead5adef",
   "metadata": {},
   "outputs": [],
   "source": [
    "# create object of radiall basis function\n",
    "r_svc=SVC(random_state=1,kernel=\"rbf\")"
   ]
  },
  {
   "cell_type": "code",
   "execution_count": null,
   "id": "9a950c35",
   "metadata": {},
   "outputs": [],
   "source": [
    "#call function\n",
    "r_svc=create_model(r_svc)"
   ]
  },
  {
   "cell_type": "code",
   "execution_count": null,
   "id": "c4e4da02",
   "metadata": {},
   "outputs": [],
   "source": [
    "#conclusion=bank.csv dataset is non-linear(radial basis)\n",
    "#recall=84% and accuracy =82%"
   ]
  },
  {
   "cell_type": "code",
   "execution_count": null,
   "id": "e2ad8c2e",
   "metadata": {},
   "outputs": [],
   "source": [
    "#to store object of model and object of standard scaler class but in binary format\n",
    "#store data in file in binary format, take mode of file : wb(write binary)\n",
    "#first open file in write binary\n",
    "import pickle\n",
    "file1=open(\"scale.pkl\",'wb')\n",
    "#syntax pickle.dump(object, temp file)\n",
    "pickle.dump(ss,file1)\n",
    "file1.close()"
   ]
  },
  {
   "cell_type": "code",
   "execution_count": null,
   "id": "0c0de069",
   "metadata": {},
   "outputs": [],
   "source": [
    "file2=open(\"decisiontreegini.pkl\",'wb')\n",
    "pickle.dump(dt,file2)\n",
    "file2.close()"
   ]
  },
  {
   "cell_type": "code",
   "execution_count": null,
   "id": "f52a3c70",
   "metadata": {},
   "outputs": [],
   "source": [
    "file3=open(\"decisiontreeentropy.pkl\",'wb')\n",
    "pickle.dump(dt1,file3)\n",
    "file3.close()"
   ]
  },
  {
   "cell_type": "code",
   "execution_count": null,
   "id": "5147c767",
   "metadata": {},
   "outputs": [],
   "source": [
    "file4=open(\"decisiontreemaxdept.pkl\",'wb')\n",
    "pickle.dump(dt2,file4)\n",
    "file4.close()"
   ]
  },
  {
   "cell_type": "code",
   "execution_count": null,
   "id": "b2f92eb3",
   "metadata": {},
   "outputs": [],
   "source": [
    "file5=open(\"decisiontreeminsamples.pkl\",'wb')\n",
    "pickle.dump(dt3,file5)\n",
    "file5.close()"
   ]
  },
  {
   "cell_type": "code",
   "execution_count": null,
   "id": "05892897",
   "metadata": {},
   "outputs": [],
   "source": [
    "file6=open('Randomforest.pkl','wb')\n",
    "pickle.dump(rfc,file6)\n",
    "file6.close()"
   ]
  },
  {
   "cell_type": "code",
   "execution_count": null,
   "id": "8aa9bf23",
   "metadata": {},
   "outputs": [],
   "source": [
    "file7=open('adaptorboost.pkl','wb')\n",
    "pickle.dump(ada,file7)\n",
    "file7.close()"
   ]
  },
  {
   "cell_type": "code",
   "execution_count": null,
   "id": "1dbcdc8f",
   "metadata": {},
   "outputs": [],
   "source": [
    "file8=open('logisticregression.pkl','wb')\n",
    "pickle.dump(lr,file8)\n",
    "file8.close()"
   ]
  },
  {
   "cell_type": "code",
   "execution_count": null,
   "id": "a2be64ef",
   "metadata": {},
   "outputs": [],
   "source": [
    "file9=open('gradientboost.pkl','wb')\n",
    "pickle.dump(gbc,file9)\n",
    "file9.close()"
   ]
  },
  {
   "cell_type": "code",
   "execution_count": null,
   "id": "a98867ae",
   "metadata": {},
   "outputs": [],
   "source": [
    "file10=open('extremegradientboost.pkl','wb')\n",
    "pickle.dump(xgc,file10)\n",
    "file10.close()"
   ]
  },
  {
   "cell_type": "code",
   "execution_count": null,
   "id": "fe3874c5",
   "metadata": {},
   "outputs": [],
   "source": [
    "file11=open('supportvector','wb')\n",
    "pickle.dump(r_svc,file11)\n",
    "file11.close()"
   ]
  }
 ],
 "metadata": {
  "kernelspec": {
   "display_name": "Python 3 (ipykernel)",
   "language": "python",
   "name": "python3"
  },
  "language_info": {
   "codemirror_mode": {
    "name": "ipython",
    "version": 3
   },
   "file_extension": ".py",
   "mimetype": "text/x-python",
   "name": "python",
   "nbconvert_exporter": "python",
   "pygments_lexer": "ipython3",
   "version": "3.10.9"
  }
 },
 "nbformat": 4,
 "nbformat_minor": 5
}
